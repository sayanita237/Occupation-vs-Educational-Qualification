{
 "cells": [
  {
   "cell_type": "markdown",
   "id": "2a15c64d",
   "metadata": {},
   "source": [
    "# How Occupation depend on Educational Qualification "
   ]
  },
  {
   "cell_type": "markdown",
   "id": "7c2f5623",
   "metadata": {},
   "source": [
    "Salary is hypothesized to depend on educational qualification and occupation. To understand the dependency, the salaries of 40 individuals [SalaryData.csv] are collected and each person’s educational qualification and occupation are noted. Educational qualification is at three levels, High school graduate, Bachelor, and Doctorate. Occupation is at four levels, Administrative and clerical, Sales, Professional or specialty, and Executive or managerial. A different number of observations are in each level of education – occupation combination."
   ]
  },
  {
   "cell_type": "code",
   "execution_count": 1,
   "id": "364f392b",
   "metadata": {},
   "outputs": [],
   "source": [
    "import pandas as pd\n",
    "import numpy as np\n",
    "import seaborn as sns\n",
    "import matplotlib.pyplot as plt\n",
    "\n",
    "import statsmodels.api as sm\n",
    "from statsmodels.formula.api import ols\n",
    "from statsmodels.graphics.gofplots import ProbPlot\n",
    "from statsmodels.graphics.factorplots import interaction_plot\n",
    "from statsmodels.stats.multicomp import (pairwise_tukeyhsd,MultiComparison)\n",
    "from statsmodels.stats.anova import anova_lm\n",
    "from sklearn.preprocessing import StandardScaler"
   ]
  },
  {
   "cell_type": "markdown",
   "id": "7dc4c295",
   "metadata": {},
   "source": [
    "**Read the data**"
   ]
  },
  {
   "cell_type": "code",
   "execution_count": 2,
   "id": "d0827396",
   "metadata": {},
   "outputs": [],
   "source": [
    "Salary_Data = pd.read_csv('SalaryData.csv')"
   ]
  },
  {
   "cell_type": "code",
   "execution_count": 19,
   "id": "23a0e68d",
   "metadata": {},
   "outputs": [
    {
     "data": {
      "text/html": [
       "<div>\n",
       "<style scoped>\n",
       "    .dataframe tbody tr th:only-of-type {\n",
       "        vertical-align: middle;\n",
       "    }\n",
       "\n",
       "    .dataframe tbody tr th {\n",
       "        vertical-align: top;\n",
       "    }\n",
       "\n",
       "    .dataframe thead th {\n",
       "        text-align: right;\n",
       "    }\n",
       "</style>\n",
       "<table border=\"1\" class=\"dataframe\">\n",
       "  <thead>\n",
       "    <tr style=\"text-align: right;\">\n",
       "      <th></th>\n",
       "      <th>Education</th>\n",
       "      <th>Occupation</th>\n",
       "      <th>Salary</th>\n",
       "      <th>EduOccu</th>\n",
       "    </tr>\n",
       "  </thead>\n",
       "  <tbody>\n",
       "    <tr>\n",
       "      <th>0</th>\n",
       "      <td>Doctorate</td>\n",
       "      <td>Adm-clerical</td>\n",
       "      <td>153197</td>\n",
       "      <td>Doctorate: Adm-clerical</td>\n",
       "    </tr>\n",
       "    <tr>\n",
       "      <th>1</th>\n",
       "      <td>Doctorate</td>\n",
       "      <td>Adm-clerical</td>\n",
       "      <td>115945</td>\n",
       "      <td>Doctorate: Adm-clerical</td>\n",
       "    </tr>\n",
       "    <tr>\n",
       "      <th>2</th>\n",
       "      <td>Doctorate</td>\n",
       "      <td>Adm-clerical</td>\n",
       "      <td>175935</td>\n",
       "      <td>Doctorate: Adm-clerical</td>\n",
       "    </tr>\n",
       "    <tr>\n",
       "      <th>3</th>\n",
       "      <td>Doctorate</td>\n",
       "      <td>Adm-clerical</td>\n",
       "      <td>220754</td>\n",
       "      <td>Doctorate: Adm-clerical</td>\n",
       "    </tr>\n",
       "    <tr>\n",
       "      <th>4</th>\n",
       "      <td>Doctorate</td>\n",
       "      <td>Sales</td>\n",
       "      <td>170769</td>\n",
       "      <td>Doctorate: Sales</td>\n",
       "    </tr>\n",
       "  </tbody>\n",
       "</table>\n",
       "</div>"
      ],
      "text/plain": [
       "    Education     Occupation  Salary                   EduOccu\n",
       "0   Doctorate   Adm-clerical  153197   Doctorate: Adm-clerical\n",
       "1   Doctorate   Adm-clerical  115945   Doctorate: Adm-clerical\n",
       "2   Doctorate   Adm-clerical  175935   Doctorate: Adm-clerical\n",
       "3   Doctorate   Adm-clerical  220754   Doctorate: Adm-clerical\n",
       "4   Doctorate          Sales  170769          Doctorate: Sales"
      ]
     },
     "execution_count": 19,
     "metadata": {},
     "output_type": "execute_result"
    }
   ],
   "source": [
    "Salary_Data.head()"
   ]
  },
  {
   "cell_type": "code",
   "execution_count": 20,
   "id": "999c1bbd",
   "metadata": {},
   "outputs": [
    {
     "name": "stdout",
     "output_type": "stream",
     "text": [
      "<class 'pandas.core.frame.DataFrame'>\n",
      "RangeIndex: 40 entries, 0 to 39\n",
      "Data columns (total 4 columns):\n",
      " #   Column      Non-Null Count  Dtype \n",
      "---  ------      --------------  ----- \n",
      " 0   Education   40 non-null     object\n",
      " 1   Occupation  40 non-null     object\n",
      " 2   Salary      40 non-null     int64 \n",
      " 3   EduOccu     40 non-null     object\n",
      "dtypes: int64(1), object(3)\n",
      "memory usage: 1.4+ KB\n"
     ]
    }
   ],
   "source": [
    "Salary_Data.info()"
   ]
  },
  {
   "cell_type": "code",
   "execution_count": 3,
   "id": "e3d72b9b",
   "metadata": {},
   "outputs": [
    {
     "data": {
      "text/plain": [
       "(40, 3)"
      ]
     },
     "execution_count": 3,
     "metadata": {},
     "output_type": "execute_result"
    }
   ],
   "source": [
    "Salary_Data.shape"
   ]
  },
  {
   "cell_type": "code",
   "execution_count": 22,
   "id": "a5f854d7",
   "metadata": {},
   "outputs": [
    {
     "data": {
      "text/plain": [
       "Education     0\n",
       "Occupation    0\n",
       "Salary        0\n",
       "EduOccu       0\n",
       "dtype: int64"
      ]
     },
     "execution_count": 22,
     "metadata": {},
     "output_type": "execute_result"
    }
   ],
   "source": [
    "Salary_Data.isnull().sum()"
   ]
  },
  {
   "cell_type": "code",
   "execution_count": 24,
   "id": "8fdf047d",
   "metadata": {},
   "outputs": [
    {
     "data": {
      "text/html": [
       "<div>\n",
       "<style scoped>\n",
       "    .dataframe tbody tr th:only-of-type {\n",
       "        vertical-align: middle;\n",
       "    }\n",
       "\n",
       "    .dataframe tbody tr th {\n",
       "        vertical-align: top;\n",
       "    }\n",
       "\n",
       "    .dataframe thead th {\n",
       "        text-align: right;\n",
       "    }\n",
       "</style>\n",
       "<table border=\"1\" class=\"dataframe\">\n",
       "  <thead>\n",
       "    <tr style=\"text-align: right;\">\n",
       "      <th></th>\n",
       "      <th>count</th>\n",
       "      <th>unique</th>\n",
       "      <th>top</th>\n",
       "      <th>freq</th>\n",
       "      <th>mean</th>\n",
       "      <th>std</th>\n",
       "      <th>min</th>\n",
       "      <th>25%</th>\n",
       "      <th>50%</th>\n",
       "      <th>75%</th>\n",
       "      <th>max</th>\n",
       "    </tr>\n",
       "  </thead>\n",
       "  <tbody>\n",
       "    <tr>\n",
       "      <th>Education</th>\n",
       "      <td>40</td>\n",
       "      <td>3</td>\n",
       "      <td>Doctorate</td>\n",
       "      <td>16</td>\n",
       "      <td>NaN</td>\n",
       "      <td>NaN</td>\n",
       "      <td>NaN</td>\n",
       "      <td>NaN</td>\n",
       "      <td>NaN</td>\n",
       "      <td>NaN</td>\n",
       "      <td>NaN</td>\n",
       "    </tr>\n",
       "    <tr>\n",
       "      <th>Occupation</th>\n",
       "      <td>40</td>\n",
       "      <td>4</td>\n",
       "      <td>Prof-specialty</td>\n",
       "      <td>13</td>\n",
       "      <td>NaN</td>\n",
       "      <td>NaN</td>\n",
       "      <td>NaN</td>\n",
       "      <td>NaN</td>\n",
       "      <td>NaN</td>\n",
       "      <td>NaN</td>\n",
       "      <td>NaN</td>\n",
       "    </tr>\n",
       "    <tr>\n",
       "      <th>Salary</th>\n",
       "      <td>40.0</td>\n",
       "      <td>NaN</td>\n",
       "      <td>NaN</td>\n",
       "      <td>NaN</td>\n",
       "      <td>162186.875</td>\n",
       "      <td>64860.407506</td>\n",
       "      <td>50103.0</td>\n",
       "      <td>99897.5</td>\n",
       "      <td>169100.0</td>\n",
       "      <td>214440.75</td>\n",
       "      <td>260151.0</td>\n",
       "    </tr>\n",
       "    <tr>\n",
       "      <th>EduOccu</th>\n",
       "      <td>40</td>\n",
       "      <td>11</td>\n",
       "      <td>Doctorate: Prof-specialty</td>\n",
       "      <td>6</td>\n",
       "      <td>NaN</td>\n",
       "      <td>NaN</td>\n",
       "      <td>NaN</td>\n",
       "      <td>NaN</td>\n",
       "      <td>NaN</td>\n",
       "      <td>NaN</td>\n",
       "      <td>NaN</td>\n",
       "    </tr>\n",
       "  </tbody>\n",
       "</table>\n",
       "</div>"
      ],
      "text/plain": [
       "           count unique                         top freq        mean  \\\n",
       "Education     40      3                   Doctorate   16         NaN   \n",
       "Occupation    40      4              Prof-specialty   13         NaN   \n",
       "Salary      40.0    NaN                         NaN  NaN  162186.875   \n",
       "EduOccu       40     11   Doctorate: Prof-specialty    6         NaN   \n",
       "\n",
       "                     std      min      25%       50%        75%       max  \n",
       "Education            NaN      NaN      NaN       NaN        NaN       NaN  \n",
       "Occupation           NaN      NaN      NaN       NaN        NaN       NaN  \n",
       "Salary      64860.407506  50103.0  99897.5  169100.0  214440.75  260151.0  \n",
       "EduOccu              NaN      NaN      NaN       NaN        NaN       NaN  "
      ]
     },
     "execution_count": 24,
     "metadata": {},
     "output_type": "execute_result"
    }
   ],
   "source": [
    "Salary_Data.describe(include='all').T"
   ]
  },
  {
   "cell_type": "code",
   "execution_count": 5,
   "id": "4d635d99",
   "metadata": {},
   "outputs": [
    {
     "data": {
      "text/plain": [
       "array([' Doctorate', ' Bachelors', ' HS-grad'], dtype=object)"
      ]
     },
     "execution_count": 5,
     "metadata": {},
     "output_type": "execute_result"
    }
   ],
   "source": [
    "Salary_Data['Education'].unique()"
   ]
  },
  {
   "cell_type": "code",
   "execution_count": 6,
   "id": "beb53383",
   "metadata": {},
   "outputs": [
    {
     "data": {
      "text/plain": [
       "array([' Adm-clerical', ' Sales', ' Prof-specialty', ' Exec-managerial'],\n",
       "      dtype=object)"
      ]
     },
     "execution_count": 6,
     "metadata": {},
     "output_type": "execute_result"
    }
   ],
   "source": [
    "Salary_Data['Occupation'].unique()"
   ]
  },
  {
   "cell_type": "markdown",
   "id": "3c3ff114",
   "metadata": {},
   "source": [
    "# 1.1 State the null and the alternate hypothesis for conducting one-way ANOVA for both Education and Occupation individually."
   ]
  },
  {
   "cell_type": "markdown",
   "id": "757b7e9d",
   "metadata": {},
   "source": [
    "**Education**\n",
    "\n",
    "H0: µ(Doctorate) = µ(Bachelors) = µ(HS-grad)\n",
    "\n",
    "H1: Atleast one pair of population means are unequal"
   ]
  },
  {
   "cell_type": "markdown",
   "id": "112018bb",
   "metadata": {},
   "source": [
    "**Occupation**\n",
    "\n",
    "H0: µ(Adm-clerical) = µ(Sales) = µ(Prof-specialty) = µ(Exec-managerial)\n",
    "\n",
    "H1: Atleast one pair of population means are unequal"
   ]
  },
  {
   "cell_type": "markdown",
   "id": "d699c1f0",
   "metadata": {},
   "source": [
    "# 1.2 Perform a one-way ANOVA on Salary with respect to Education. State whether the null hypothesis is accepted or rejected based on the ANOVA results."
   ]
  },
  {
   "cell_type": "code",
   "execution_count": 7,
   "id": "a96d21db",
   "metadata": {},
   "outputs": [
    {
     "data": {
      "text/html": [
       "<div>\n",
       "<style scoped>\n",
       "    .dataframe tbody tr th:only-of-type {\n",
       "        vertical-align: middle;\n",
       "    }\n",
       "\n",
       "    .dataframe tbody tr th {\n",
       "        vertical-align: top;\n",
       "    }\n",
       "\n",
       "    .dataframe thead th {\n",
       "        text-align: right;\n",
       "    }\n",
       "</style>\n",
       "<table border=\"1\" class=\"dataframe\">\n",
       "  <thead>\n",
       "    <tr style=\"text-align: right;\">\n",
       "      <th></th>\n",
       "      <th>df</th>\n",
       "      <th>sum_sq</th>\n",
       "      <th>mean_sq</th>\n",
       "      <th>F</th>\n",
       "      <th>PR(&gt;F)</th>\n",
       "    </tr>\n",
       "  </thead>\n",
       "  <tbody>\n",
       "    <tr>\n",
       "      <th>C(Education)</th>\n",
       "      <td>2.0</td>\n",
       "      <td>1.026955e+11</td>\n",
       "      <td>5.134773e+10</td>\n",
       "      <td>30.95628</td>\n",
       "      <td>1.257709e-08</td>\n",
       "    </tr>\n",
       "    <tr>\n",
       "      <th>Residual</th>\n",
       "      <td>37.0</td>\n",
       "      <td>6.137256e+10</td>\n",
       "      <td>1.658718e+09</td>\n",
       "      <td>NaN</td>\n",
       "      <td>NaN</td>\n",
       "    </tr>\n",
       "  </tbody>\n",
       "</table>\n",
       "</div>"
      ],
      "text/plain": [
       "                df        sum_sq       mean_sq         F        PR(>F)\n",
       "C(Education)   2.0  1.026955e+11  5.134773e+10  30.95628  1.257709e-08\n",
       "Residual      37.0  6.137256e+10  1.658718e+09       NaN           NaN"
      ]
     },
     "execution_count": 7,
     "metadata": {},
     "output_type": "execute_result"
    }
   ],
   "source": [
    "formula_Edu = 'Salary ~ C(Education)'\n",
    "model = ols(formula_Edu, Salary_Data).fit()\n",
    "anova_table = anova_lm(model)\n",
    "anova_table"
   ]
  },
  {
   "cell_type": "markdown",
   "id": "fd1fb103",
   "metadata": {},
   "source": [
    "**As we can see that P value is less than alpha, hence we reject the null hypothesis. We can say that at least one populations mean is not equal**"
   ]
  },
  {
   "cell_type": "markdown",
   "id": "3681555e",
   "metadata": {},
   "source": [
    "# 1.3 Perform a one-way ANOVA on Salary with respect to Occupation. State whether the null hypothesis is accepted or rejected based on the ANOVA results."
   ]
  },
  {
   "cell_type": "code",
   "execution_count": 8,
   "id": "960d2408",
   "metadata": {},
   "outputs": [
    {
     "data": {
      "text/html": [
       "<div>\n",
       "<style scoped>\n",
       "    .dataframe tbody tr th:only-of-type {\n",
       "        vertical-align: middle;\n",
       "    }\n",
       "\n",
       "    .dataframe tbody tr th {\n",
       "        vertical-align: top;\n",
       "    }\n",
       "\n",
       "    .dataframe thead th {\n",
       "        text-align: right;\n",
       "    }\n",
       "</style>\n",
       "<table border=\"1\" class=\"dataframe\">\n",
       "  <thead>\n",
       "    <tr style=\"text-align: right;\">\n",
       "      <th></th>\n",
       "      <th>df</th>\n",
       "      <th>sum_sq</th>\n",
       "      <th>mean_sq</th>\n",
       "      <th>F</th>\n",
       "      <th>PR(&gt;F)</th>\n",
       "    </tr>\n",
       "  </thead>\n",
       "  <tbody>\n",
       "    <tr>\n",
       "      <th>C(Occupation)</th>\n",
       "      <td>3.0</td>\n",
       "      <td>1.125878e+10</td>\n",
       "      <td>3.752928e+09</td>\n",
       "      <td>0.884144</td>\n",
       "      <td>0.458508</td>\n",
       "    </tr>\n",
       "    <tr>\n",
       "      <th>Residual</th>\n",
       "      <td>36.0</td>\n",
       "      <td>1.528092e+11</td>\n",
       "      <td>4.244701e+09</td>\n",
       "      <td>NaN</td>\n",
       "      <td>NaN</td>\n",
       "    </tr>\n",
       "  </tbody>\n",
       "</table>\n",
       "</div>"
      ],
      "text/plain": [
       "                 df        sum_sq       mean_sq         F    PR(>F)\n",
       "C(Occupation)   3.0  1.125878e+10  3.752928e+09  0.884144  0.458508\n",
       "Residual       36.0  1.528092e+11  4.244701e+09       NaN       NaN"
      ]
     },
     "execution_count": 8,
     "metadata": {},
     "output_type": "execute_result"
    }
   ],
   "source": [
    "formula_Occu='Salary ~ C(Occupation)'\n",
    "model=ols(formula_Occu, Salary_Data).fit()\n",
    "anova_table=anova_lm(model)\n",
    "anova_table "
   ]
  },
  {
   "cell_type": "markdown",
   "id": "4e56e473",
   "metadata": {},
   "source": [
    "**As we can see that P value is greater than alpha, hence we fail to reject the null hypothesis. We can say that all populations means are equal**"
   ]
  },
  {
   "cell_type": "markdown",
   "id": "3dd82286",
   "metadata": {},
   "source": [
    "# 1.4 If the null hypothesis is rejected in either (1.2) or in (1.3), find out which class means are significantly different. Interpret the result."
   ]
  },
  {
   "cell_type": "code",
   "execution_count": 9,
   "id": "0ddc1080",
   "metadata": {},
   "outputs": [
    {
     "name": "stdout",
     "output_type": "stream",
     "text": [
      "           Multiple Comparison of Means - Tukey HSD, FWER=0.05           \n",
      "=========================================================================\n",
      "  group1     group2     meandiff   p-adj     lower        upper    reject\n",
      "-------------------------------------------------------------------------\n",
      " Bachelors  Doctorate   43274.0667 0.0146    7541.1439  79006.9894   True\n",
      " Bachelors    HS-grad  -90114.1556  0.001 -132035.1958 -48193.1153   True\n",
      " Doctorate    HS-grad -133388.2222  0.001 -174815.0876 -91961.3569   True\n",
      "-------------------------------------------------------------------------\n"
     ]
    }
   ],
   "source": [
    "# Here in Education data we reject the null hypothesis\n",
    "# Find which class means are significanly different \n",
    "mcomp = MultiComparison(Salary_Data['Salary'], Salary_Data['Education'])\n",
    "print(mcomp.tukeyhsd().summary())"
   ]
  },
  {
   "cell_type": "markdown",
   "id": "c0f2cfd6",
   "metadata": {},
   "source": [
    "# 1.5 What is the interaction between two treatments? Analyze the effects of one variable on the other (Education and Occupation) with the help of an interaction plot.[hint: use the ‘pointplot’ function from the ‘seaborn’ function]"
   ]
  },
  {
   "cell_type": "code",
   "execution_count": 10,
   "id": "619b7d64",
   "metadata": {},
   "outputs": [
    {
     "data": {
      "text/html": [
       "<div>\n",
       "<style scoped>\n",
       "    .dataframe tbody tr th:only-of-type {\n",
       "        vertical-align: middle;\n",
       "    }\n",
       "\n",
       "    .dataframe tbody tr th {\n",
       "        vertical-align: top;\n",
       "    }\n",
       "\n",
       "    .dataframe thead th {\n",
       "        text-align: right;\n",
       "    }\n",
       "</style>\n",
       "<table border=\"1\" class=\"dataframe\">\n",
       "  <thead>\n",
       "    <tr style=\"text-align: right;\">\n",
       "      <th></th>\n",
       "      <th>df</th>\n",
       "      <th>sum_sq</th>\n",
       "      <th>mean_sq</th>\n",
       "      <th>F</th>\n",
       "      <th>PR(&gt;F)</th>\n",
       "    </tr>\n",
       "  </thead>\n",
       "  <tbody>\n",
       "    <tr>\n",
       "      <th>C(Education)</th>\n",
       "      <td>2.0</td>\n",
       "      <td>1.026955e+11</td>\n",
       "      <td>5.134773e+10</td>\n",
       "      <td>31.257677</td>\n",
       "      <td>1.981539e-08</td>\n",
       "    </tr>\n",
       "    <tr>\n",
       "      <th>C(Occupation)</th>\n",
       "      <td>3.0</td>\n",
       "      <td>5.519946e+09</td>\n",
       "      <td>1.839982e+09</td>\n",
       "      <td>1.120080</td>\n",
       "      <td>3.545825e-01</td>\n",
       "    </tr>\n",
       "    <tr>\n",
       "      <th>Residual</th>\n",
       "      <td>34.0</td>\n",
       "      <td>5.585261e+10</td>\n",
       "      <td>1.642724e+09</td>\n",
       "      <td>NaN</td>\n",
       "      <td>NaN</td>\n",
       "    </tr>\n",
       "  </tbody>\n",
       "</table>\n",
       "</div>"
      ],
      "text/plain": [
       "                 df        sum_sq       mean_sq          F        PR(>F)\n",
       "C(Education)    2.0  1.026955e+11  5.134773e+10  31.257677  1.981539e-08\n",
       "C(Occupation)   3.0  5.519946e+09  1.839982e+09   1.120080  3.545825e-01\n",
       "Residual       34.0  5.585261e+10  1.642724e+09        NaN           NaN"
      ]
     },
     "execution_count": 10,
     "metadata": {},
     "output_type": "execute_result"
    }
   ],
   "source": [
    "formula = 'Salary ~ C(Education) +C(Occupation)'\n",
    "model = ols(formula, Salary_Data).fit()\n",
    "aov_table = anova_lm(model)\n",
    "aov_table"
   ]
  },
  {
   "cell_type": "markdown",
   "id": "c7342634",
   "metadata": {},
   "source": [
    "Both factors have low p-values(less than 0.05) so the mean of the Salary are not the same across both Education and Occupation is the more significant factor(lower P-value)"
   ]
  },
  {
   "cell_type": "code",
   "execution_count": 11,
   "id": "03e487bf",
   "metadata": {},
   "outputs": [
    {
     "data": {
      "image/png": "[encoded data removed]",
      "text/plain": [
       "<Figure size 432x288 with 1 Axes>"
      ]
     },
     "metadata": {
      "needs_background": "light"
     },
     "output_type": "display_data"
    }
   ],
   "source": [
    "sns.pointplot(x='Education', y='Salary', data=Salary_Data, hue='Occupation',ci=None);"
   ]
  },
  {
   "cell_type": "code",
   "execution_count": 12,
   "id": "7473e773",
   "metadata": {},
   "outputs": [
    {
     "data": {
      "image/png": "[encoded data removed]",
      "text/plain": [
       "<Figure size 432x288 with 1 Axes>"
      ]
     },
     "metadata": {
      "needs_background": "light"
     },
     "output_type": "display_data"
    }
   ],
   "source": [
    "sns.pointplot(x='Occupation', y='Salary', data=Salary_Data, hue='Education',ci=None);"
   ]
  },
  {
   "cell_type": "markdown",
   "id": "c83088b8",
   "metadata": {},
   "source": [
    "**we can see that there is some sort of interaction between the two treatments. so, we will introduce a new term while performing the two way ANOVA.**"
   ]
  },
  {
   "cell_type": "markdown",
   "id": "e6250b46",
   "metadata": {},
   "source": [
    "# 1.6 Perform a two-way ANOVA based on Salary with respect to both Education and Occupation (along with their interaction Education*Occupation). State the null and alternative hypotheses and state your results. How will you interpret this result?"
   ]
  },
  {
   "cell_type": "markdown",
   "id": "ee58881e",
   "metadata": {},
   "source": [
    "𝐻0 : The mean salary variable with respect to each education category and occupation is equal.\n",
    "\n",
    "𝐻1 : At least one of the means of 'salary' variable with respect to each education category and occupation is unequal."
   ]
  },
  {
   "cell_type": "code",
   "execution_count": 13,
   "id": "27d967e8",
   "metadata": {},
   "outputs": [
    {
     "data": {
      "text/html": [
       "<div>\n",
       "<style scoped>\n",
       "    .dataframe tbody tr th:only-of-type {\n",
       "        vertical-align: middle;\n",
       "    }\n",
       "\n",
       "    .dataframe tbody tr th {\n",
       "        vertical-align: top;\n",
       "    }\n",
       "\n",
       "    .dataframe thead th {\n",
       "        text-align: right;\n",
       "    }\n",
       "</style>\n",
       "<table border=\"1\" class=\"dataframe\">\n",
       "  <thead>\n",
       "    <tr style=\"text-align: right;\">\n",
       "      <th></th>\n",
       "      <th>df</th>\n",
       "      <th>sum_sq</th>\n",
       "      <th>mean_sq</th>\n",
       "      <th>F</th>\n",
       "      <th>PR(&gt;F)</th>\n",
       "    </tr>\n",
       "  </thead>\n",
       "  <tbody>\n",
       "    <tr>\n",
       "      <th>C(Education)</th>\n",
       "      <td>2.0</td>\n",
       "      <td>1.026955e+11</td>\n",
       "      <td>5.134773e+10</td>\n",
       "      <td>72.211958</td>\n",
       "      <td>5.466264e-12</td>\n",
       "    </tr>\n",
       "    <tr>\n",
       "      <th>C(Occupation)</th>\n",
       "      <td>3.0</td>\n",
       "      <td>5.519946e+09</td>\n",
       "      <td>1.839982e+09</td>\n",
       "      <td>2.587626</td>\n",
       "      <td>7.211580e-02</td>\n",
       "    </tr>\n",
       "    <tr>\n",
       "      <th>C(Education):C(Occupation)</th>\n",
       "      <td>6.0</td>\n",
       "      <td>3.634909e+10</td>\n",
       "      <td>6.058182e+09</td>\n",
       "      <td>8.519815</td>\n",
       "      <td>2.232500e-05</td>\n",
       "    </tr>\n",
       "    <tr>\n",
       "      <th>Residual</th>\n",
       "      <td>29.0</td>\n",
       "      <td>2.062102e+10</td>\n",
       "      <td>7.110697e+08</td>\n",
       "      <td>NaN</td>\n",
       "      <td>NaN</td>\n",
       "    </tr>\n",
       "  </tbody>\n",
       "</table>\n",
       "</div>"
      ],
      "text/plain": [
       "                              df        sum_sq       mean_sq          F  \\\n",
       "C(Education)                 2.0  1.026955e+11  5.134773e+10  72.211958   \n",
       "C(Occupation)                3.0  5.519946e+09  1.839982e+09   2.587626   \n",
       "C(Education):C(Occupation)   6.0  3.634909e+10  6.058182e+09   8.519815   \n",
       "Residual                    29.0  2.062102e+10  7.110697e+08        NaN   \n",
       "\n",
       "                                  PR(>F)  \n",
       "C(Education)                5.466264e-12  \n",
       "C(Occupation)               7.211580e-02  \n",
       "C(Education):C(Occupation)  2.232500e-05  \n",
       "Residual                             NaN  "
      ]
     },
     "execution_count": 13,
     "metadata": {},
     "output_type": "execute_result"
    }
   ],
   "source": [
    "formula = 'Salary ~ C(Education) + C(Occupation) + C(Education):C(Occupation)'\n",
    "# formula = 'Days ~ C(Education) * C(Occupation)'\n",
    "model = ols(formula, Salary_Data).fit()\n",
    "aov_table = anova_lm(model)\n",
    "aov_table"
   ]
  },
  {
   "cell_type": "markdown",
   "id": "40ee747b",
   "metadata": {},
   "source": [
    "As p value = 2.232500e-05 is lesser than 0.05, we reject the null hypothesis and this implies that there is significant amount of interaction between the variables, Education and Occupation and hence, at least one of the means of the salary variable with respect to each education category and occupation is unequal."
   ]
  },
  {
   "cell_type": "code",
   "execution_count": 14,
   "id": "0c69fb18",
   "metadata": {},
   "outputs": [],
   "source": [
    "Salary_Data['EduOccu'] = Salary_Data['Education']+ ':' +Salary_Data['Occupation']"
   ]
  },
  {
   "cell_type": "code",
   "execution_count": 15,
   "id": "ae308928",
   "metadata": {},
   "outputs": [
    {
     "data": {
      "text/html": [
       "<div>\n",
       "<style scoped>\n",
       "    .dataframe tbody tr th:only-of-type {\n",
       "        vertical-align: middle;\n",
       "    }\n",
       "\n",
       "    .dataframe tbody tr th {\n",
       "        vertical-align: top;\n",
       "    }\n",
       "\n",
       "    .dataframe thead th {\n",
       "        text-align: right;\n",
       "    }\n",
       "</style>\n",
       "<table border=\"1\" class=\"dataframe\">\n",
       "  <thead>\n",
       "    <tr style=\"text-align: right;\">\n",
       "      <th></th>\n",
       "      <th>Education</th>\n",
       "      <th>Occupation</th>\n",
       "      <th>Salary</th>\n",
       "      <th>EduOccu</th>\n",
       "    </tr>\n",
       "  </thead>\n",
       "  <tbody>\n",
       "    <tr>\n",
       "      <th>35</th>\n",
       "      <td>Bachelors</td>\n",
       "      <td>Exec-managerial</td>\n",
       "      <td>173935</td>\n",
       "      <td>Bachelors: Exec-managerial</td>\n",
       "    </tr>\n",
       "    <tr>\n",
       "      <th>36</th>\n",
       "      <td>Bachelors</td>\n",
       "      <td>Exec-managerial</td>\n",
       "      <td>212448</td>\n",
       "      <td>Bachelors: Exec-managerial</td>\n",
       "    </tr>\n",
       "    <tr>\n",
       "      <th>37</th>\n",
       "      <td>Bachelors</td>\n",
       "      <td>Exec-managerial</td>\n",
       "      <td>173664</td>\n",
       "      <td>Bachelors: Exec-managerial</td>\n",
       "    </tr>\n",
       "    <tr>\n",
       "      <th>38</th>\n",
       "      <td>Bachelors</td>\n",
       "      <td>Exec-managerial</td>\n",
       "      <td>212760</td>\n",
       "      <td>Bachelors: Exec-managerial</td>\n",
       "    </tr>\n",
       "    <tr>\n",
       "      <th>39</th>\n",
       "      <td>Doctorate</td>\n",
       "      <td>Exec-managerial</td>\n",
       "      <td>212781</td>\n",
       "      <td>Doctorate: Exec-managerial</td>\n",
       "    </tr>\n",
       "  </tbody>\n",
       "</table>\n",
       "</div>"
      ],
      "text/plain": [
       "     Education        Occupation  Salary                      EduOccu\n",
       "35   Bachelors   Exec-managerial  173935   Bachelors: Exec-managerial\n",
       "36   Bachelors   Exec-managerial  212448   Bachelors: Exec-managerial\n",
       "37   Bachelors   Exec-managerial  173664   Bachelors: Exec-managerial\n",
       "38   Bachelors   Exec-managerial  212760   Bachelors: Exec-managerial\n",
       "39   Doctorate   Exec-managerial  212781   Doctorate: Exec-managerial"
      ]
     },
     "execution_count": 15,
     "metadata": {},
     "output_type": "execute_result"
    }
   ],
   "source": [
    "Salary_Data.tail()"
   ]
  },
  {
   "cell_type": "code",
   "execution_count": 16,
   "id": "843c89ea",
   "metadata": {},
   "outputs": [
    {
     "data": {
      "text/plain": [
       " Doctorate: Prof-specialty     6\n",
       " Doctorate: Sales              5\n",
       " Doctorate: Adm-clerical       4\n",
       " Bachelors: Prof-specialty     4\n",
       " Bachelors: Sales              4\n",
       " Bachelors: Exec-managerial    4\n",
       " Bachelors: Adm-clerical       3\n",
       " HS-grad: Sales                3\n",
       " HS-grad: Adm-clerical         3\n",
       " HS-grad: Prof-specialty       3\n",
       " Doctorate: Exec-managerial    1\n",
       "Name: EduOccu, dtype: int64"
      ]
     },
     "execution_count": 16,
     "metadata": {},
     "output_type": "execute_result"
    }
   ],
   "source": [
    "Salary_Data['EduOccu'].value_counts()"
   ]
  },
  {
   "cell_type": "code",
   "execution_count": 17,
   "id": "c84f6e9c",
   "metadata": {},
   "outputs": [],
   "source": [
    "from statsmodels.stats.multicomp import MultiComparison"
   ]
  },
  {
   "cell_type": "code",
   "execution_count": 18,
   "id": "3de31005",
   "metadata": {},
   "outputs": [
    {
     "name": "stdout",
     "output_type": "stream",
     "text": [
      "                            Multiple Comparison of Means - Tukey HSD, FWER=0.05                             \n",
      "============================================================================================================\n",
      "           group1                      group2             meandiff   p-adj     lower        upper     reject\n",
      "------------------------------------------------------------------------------------------------------------\n",
      "    Bachelors: Adm-clerical  Bachelors: Exec-managerial     22490.75    0.9  -48505.5887   93487.0887  False\n",
      "    Bachelors: Adm-clerical   Bachelors: Prof-specialty    -64923.25 0.0963 -135919.5887    6073.0887  False\n",
      "    Bachelors: Adm-clerical            Bachelors: Sales     21589.75    0.9  -49406.5887   92586.0887  False\n",
      "    Bachelors: Adm-clerical     Doctorate: Adm-clerical     -4253.25    0.9  -75249.5887   66743.0887  False\n",
      "    Bachelors: Adm-clerical  Doctorate: Exec-managerial      42070.0    0.9   -65266.375   149406.375  False\n",
      "    Bachelors: Adm-clerical   Doctorate: Prof-specialty   77061.8333 0.0118   11331.9959  142791.6707   True\n",
      "    Bachelors: Adm-clerical            Doctorate: Sales      23205.6    0.9  -44679.8842   91091.0842  False\n",
      "    Bachelors: Adm-clerical       HS-grad: Adm-clerical  -91951.3333 0.0083  -167849.612  -16053.0547   True\n",
      "    Bachelors: Adm-clerical     HS-grad: Prof-specialty  -75176.6667 0.0539 -151074.9453      721.612  False\n",
      "    Bachelors: Adm-clerical              HS-grad: Sales -119888.6667  0.001 -195786.9453   -43990.388   True\n",
      " Bachelors: Exec-managerial   Bachelors: Prof-specialty     -87414.0 0.0029 -153143.8374  -21684.1626   True\n",
      " Bachelors: Exec-managerial            Bachelors: Sales       -901.0    0.9  -66630.8374   64828.8374  False\n",
      " Bachelors: Exec-managerial     Doctorate: Adm-clerical     -26744.0    0.9  -92473.8374   38985.8374  False\n",
      " Bachelors: Exec-managerial  Doctorate: Exec-managerial     19579.25    0.9  -84348.7482  123507.2482  False\n",
      " Bachelors: Exec-managerial   Doctorate: Prof-specialty   54571.0833    0.1   -5431.7744  114573.9411  False\n",
      " Bachelors: Exec-managerial            Doctorate: Sales       714.85    0.9  -61641.9489   63071.6489  False\n",
      " Bachelors: Exec-managerial       HS-grad: Adm-clerical -114442.0833  0.001 -185438.4221  -43445.7446   True\n",
      " Bachelors: Exec-managerial     HS-grad: Prof-specialty  -97667.4167 0.0019 -168663.7554  -26671.0779   True\n",
      " Bachelors: Exec-managerial              HS-grad: Sales -142379.4167  0.001 -213375.7554  -71383.0779   True\n",
      "  Bachelors: Prof-specialty            Bachelors: Sales      86513.0 0.0032   20783.1626  152242.8374   True\n",
      "  Bachelors: Prof-specialty     Doctorate: Adm-clerical      60670.0 0.0903   -5059.8374  126399.8374  False\n",
      "  Bachelors: Prof-specialty  Doctorate: Exec-managerial    106993.25 0.0395    3065.2518  210921.2482   True\n",
      "  Bachelors: Prof-specialty   Doctorate: Prof-specialty  141985.0833  0.001   81982.2256  201987.9411   True\n",
      "  Bachelors: Prof-specialty            Doctorate: Sales     88128.85 0.0013   25772.0511  150485.6489   True\n",
      "  Bachelors: Prof-specialty       HS-grad: Adm-clerical  -27028.0833    0.9  -98024.4221   43968.2554  False\n",
      "  Bachelors: Prof-specialty     HS-grad: Prof-specialty  -10253.4167    0.9  -81249.7554   60742.9221  False\n",
      "  Bachelors: Prof-specialty              HS-grad: Sales  -54965.4167 0.2484 -125961.7554   16030.9221  False\n",
      "           Bachelors: Sales     Doctorate: Adm-clerical     -25843.0    0.9  -91572.8374   39886.8374  False\n",
      "           Bachelors: Sales  Doctorate: Exec-managerial     20480.25    0.9  -83447.7482  124408.2482  False\n",
      "           Bachelors: Sales   Doctorate: Prof-specialty   55472.0833 0.0893   -4530.7744  115474.9411  False\n",
      "           Bachelors: Sales            Doctorate: Sales      1615.85    0.9  -60740.9489   63972.6489  False\n",
      "           Bachelors: Sales       HS-grad: Adm-clerical -113541.0833  0.001 -184537.4221  -42544.7446   True\n",
      "           Bachelors: Sales     HS-grad: Prof-specialty  -96766.4167 0.0021 -167762.7554  -25770.0779   True\n",
      "           Bachelors: Sales              HS-grad: Sales -141478.4167  0.001 -212474.7554  -70482.0779   True\n",
      "    Doctorate: Adm-clerical  Doctorate: Exec-managerial     46323.25 0.8836  -57604.7482  150251.2482  False\n",
      "    Doctorate: Adm-clerical   Doctorate: Prof-specialty   81315.0833 0.0023   21312.2256  141317.9411   True\n",
      "    Doctorate: Adm-clerical            Doctorate: Sales     27458.85 0.8942  -34897.9489   89815.6489  False\n",
      "    Doctorate: Adm-clerical       HS-grad: Adm-clerical  -87698.0833 0.0067 -158694.4221  -16701.7446   True\n",
      "    Doctorate: Adm-clerical     HS-grad: Prof-specialty  -70923.4167 0.0504 -141919.7554      72.9221  False\n",
      "    Doctorate: Adm-clerical              HS-grad: Sales -115635.4167  0.001 -186631.7554  -44639.0779   True\n",
      " Doctorate: Exec-managerial   Doctorate: Prof-specialty   34991.8333    0.9  -65412.1518  135395.8184  False\n",
      " Doctorate: Exec-managerial            Doctorate: Sales     -18864.4    0.9 -120692.6263   82963.8263  False\n",
      " Doctorate: Exec-managerial       HS-grad: Adm-clerical -134021.3333  0.006 -241357.7083  -26684.9583   True\n",
      " Doctorate: Exec-managerial     HS-grad: Prof-specialty -117246.6667 0.0234 -224583.0417   -9910.2917   True\n",
      " Doctorate: Exec-managerial              HS-grad: Sales -161958.6667  0.001 -269295.0417  -54622.2917   True\n",
      "  Doctorate: Prof-specialty            Doctorate: Sales  -53856.2333 0.0703 -110143.9033    2431.4366  False\n",
      "  Doctorate: Prof-specialty       HS-grad: Adm-clerical -169013.1667  0.001 -234743.0041 -103283.3293   True\n",
      "  Doctorate: Prof-specialty     HS-grad: Prof-specialty    -152238.5  0.001 -217968.3374  -86508.6626   True\n",
      "  Doctorate: Prof-specialty              HS-grad: Sales    -196950.5  0.001 -262680.3374 -131220.6626   True\n",
      "           Doctorate: Sales       HS-grad: Adm-clerical -115156.9333  0.001 -183042.4175  -47271.4492   True\n",
      "           Doctorate: Sales     HS-grad: Prof-specialty  -98382.2667  0.001 -166267.7508  -30496.7825   True\n",
      "           Doctorate: Sales              HS-grad: Sales -143094.2667  0.001 -210979.7508  -75208.7825   True\n",
      "      HS-grad: Adm-clerical     HS-grad: Prof-specialty   16774.6667    0.9   -59123.612   92672.9453  False\n",
      "      HS-grad: Adm-clerical              HS-grad: Sales  -27937.3333    0.9  -103835.612   47960.9453  False\n",
      "    HS-grad: Prof-specialty              HS-grad: Sales     -44712.0 0.6022 -120610.2786   31186.2786  False\n",
      "------------------------------------------------------------------------------------------------------------\n"
     ]
    }
   ],
   "source": [
    "mcomp = MultiComparison(Salary_Data['Salary'], Salary_Data['EduOccu'])\n",
    "print(mcomp.tukeyhsd().summary())"
   ]
  }
 ],
 "metadata": {
  "kernelspec": {
   "display_name": "Python 3 (ipykernel)",
   "language": "python",
   "name": "python3"
  },
  "language_info": {
   "codemirror_mode": {
    "name": "ipython",
    "version": 3
   },
   "file_extension": ".py",
   "mimetype": "text/x-python",
   "name": "python",
   "nbconvert_exporter": "python",
   "pygments_lexer": "ipython3",
   "version": "3.9.7"
  }
 },
 "nbformat": 4,
 "nbformat_minor": 5
}
